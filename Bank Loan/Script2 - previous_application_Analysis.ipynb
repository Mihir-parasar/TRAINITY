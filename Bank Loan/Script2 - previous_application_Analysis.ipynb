{
 "cells": [
  {
   "cell_type": "code",
   "execution_count": 1,
   "metadata": {},
   "outputs": [],
   "source": [
    "import pandas as pd\n",
    "import numpy as np\n",
    "import matplotlib.pyplot as plt\n",
    "%matplotlib inline\n",
    "import seaborn as sns\n",
    "from IPython.display import display\n",
    "import warnings\n",
    "warnings.filterwarnings('ignore')\n",
    "import os"
   ]
  },
  {
   "cell_type": "code",
   "execution_count": 2,
   "metadata": {},
   "outputs": [],
   "source": [
    "pwd = os.getcwd()"
   ]
  },
  {
   "cell_type": "code",
   "execution_count": 8,
   "metadata": {},
   "outputs": [],
   "source": [
    "data = pd.read_csv(pwd + '/Data - previous_application.csv')"
   ]
  },
  {
   "cell_type": "code",
   "execution_count": 55,
   "metadata": {},
   "outputs": [],
   "source": [
    "df1 = data.copy()"
   ]
  },
  {
   "cell_type": "code",
   "execution_count": 56,
   "metadata": {},
   "outputs": [
    {
     "name": "stdout",
     "output_type": "stream",
     "text": [
      "<class 'pandas.core.frame.DataFrame'>\n",
      "RangeIndex: 49999 entries, 0 to 49998\n",
      "Data columns (total 37 columns):\n",
      " #   Column                       Non-Null Count  Dtype  \n",
      "---  ------                       --------------  -----  \n",
      " 0   SK_ID_PREV                   49999 non-null  int64  \n",
      " 1   SK_ID_CURR                   49999 non-null  int64  \n",
      " 2   NAME_CONTRACT_TYPE           49999 non-null  object \n",
      " 3   AMT_ANNUITY                  39407 non-null  float64\n",
      " 4   AMT_APPLICATION              49999 non-null  float64\n",
      " 5   AMT_CREDIT                   49999 non-null  float64\n",
      " 6   AMT_DOWN_PAYMENT             24801 non-null  float64\n",
      " 7   AMT_GOODS_PRICE              39255 non-null  float64\n",
      " 8   WEEKDAY_APPR_PROCESS_START   49999 non-null  object \n",
      " 9   HOUR_APPR_PROCESS_START      49999 non-null  int64  \n",
      " 10  FLAG_LAST_APPL_PER_CONTRACT  49999 non-null  object \n",
      " 11  NFLAG_LAST_APPL_IN_DAY       49999 non-null  int64  \n",
      " 12  RATE_DOWN_PAYMENT            24801 non-null  float64\n",
      " 13  RATE_INTEREST_PRIMARY        165 non-null    float64\n",
      " 14  RATE_INTEREST_PRIVILEGED     165 non-null    float64\n",
      " 15  NAME_CASH_LOAN_PURPOSE       49999 non-null  object \n",
      " 16  NAME_CONTRACT_STATUS         49999 non-null  object \n",
      " 17  DAYS_DECISION                49999 non-null  int64  \n",
      " 18  NAME_PAYMENT_TYPE            49999 non-null  object \n",
      " 19  CODE_REJECT_REASON           49999 non-null  object \n",
      " 20  NAME_TYPE_SUITE              25756 non-null  object \n",
      " 21  NAME_CLIENT_TYPE             49999 non-null  object \n",
      " 22  NAME_GOODS_CATEGORY          49999 non-null  object \n",
      " 23  NAME_PORTFOLIO               49999 non-null  object \n",
      " 24  NAME_PRODUCT_TYPE            49999 non-null  object \n",
      " 25  CHANNEL_TYPE                 49999 non-null  object \n",
      " 26  SELLERPLACE_AREA             49999 non-null  int64  \n",
      " 27  NAME_SELLER_INDUSTRY         49999 non-null  object \n",
      " 28  CNT_PAYMENT                  39407 non-null  float64\n",
      " 29  NAME_YIELD_GROUP             49999 non-null  object \n",
      " 30  PRODUCT_COMBINATION          49991 non-null  object \n",
      " 31  DAYS_FIRST_DRAWING           30839 non-null  float64\n",
      " 32  DAYS_FIRST_DUE               30839 non-null  float64\n",
      " 33  DAYS_LAST_DUE_1ST_VERSION    30839 non-null  float64\n",
      " 34  DAYS_LAST_DUE                30839 non-null  float64\n",
      " 35  DAYS_TERMINATION             30839 non-null  float64\n",
      " 36  NFLAG_INSURED_ON_APPROVAL    30839 non-null  float64\n",
      "dtypes: float64(15), int64(6), object(16)\n",
      "memory usage: 14.1+ MB\n"
     ]
    }
   ],
   "source": [
    "df1.info()"
   ]
  },
  {
   "cell_type": "code",
   "execution_count": 57,
   "metadata": {},
   "outputs": [
    {
     "data": {
      "text/plain": [
       "RATE_INTEREST_PRIVILEGED       99.669993\n",
       "RATE_INTEREST_PRIMARY          99.669993\n",
       "RATE_DOWN_PAYMENT              50.397008\n",
       "AMT_DOWN_PAYMENT               50.397008\n",
       "NAME_TYPE_SUITE                48.486970\n",
       "NFLAG_INSURED_ON_APPROVAL      38.320766\n",
       "DAYS_FIRST_DRAWING             38.320766\n",
       "DAYS_FIRST_DUE                 38.320766\n",
       "DAYS_LAST_DUE_1ST_VERSION      38.320766\n",
       "DAYS_LAST_DUE                  38.320766\n",
       "DAYS_TERMINATION               38.320766\n",
       "AMT_GOODS_PRICE                21.488430\n",
       "AMT_ANNUITY                    21.184424\n",
       "CNT_PAYMENT                    21.184424\n",
       "PRODUCT_COMBINATION             0.016000\n",
       "CHANNEL_TYPE                    0.000000\n",
       "NAME_PRODUCT_TYPE               0.000000\n",
       "NAME_YIELD_GROUP                0.000000\n",
       "SELLERPLACE_AREA                0.000000\n",
       "NAME_SELLER_INDUSTRY            0.000000\n",
       "NAME_GOODS_CATEGORY             0.000000\n",
       "NAME_PORTFOLIO                  0.000000\n",
       "SK_ID_PREV                      0.000000\n",
       "NAME_CLIENT_TYPE                0.000000\n",
       "CODE_REJECT_REASON              0.000000\n",
       "SK_ID_CURR                      0.000000\n",
       "DAYS_DECISION                   0.000000\n",
       "NAME_CONTRACT_STATUS            0.000000\n",
       "NAME_CASH_LOAN_PURPOSE          0.000000\n",
       "NFLAG_LAST_APPL_IN_DAY          0.000000\n",
       "FLAG_LAST_APPL_PER_CONTRACT     0.000000\n",
       "HOUR_APPR_PROCESS_START         0.000000\n",
       "WEEKDAY_APPR_PROCESS_START      0.000000\n",
       "AMT_CREDIT                      0.000000\n",
       "AMT_APPLICATION                 0.000000\n",
       "NAME_CONTRACT_TYPE              0.000000\n",
       "NAME_PAYMENT_TYPE               0.000000\n",
       "dtype: float64"
      ]
     },
     "execution_count": 57,
     "metadata": {},
     "output_type": "execute_result"
    }
   ],
   "source": [
    "null= df1.isnull().mean().sort_values(ascending=False)*100\n",
    "null"
   ]
  },
  {
   "cell_type": "code",
   "execution_count": 58,
   "metadata": {},
   "outputs": [],
   "source": [
    "df1 = df1.loc[:, null <= 40]"
   ]
  },
  {
   "cell_type": "code",
   "execution_count": 59,
   "metadata": {},
   "outputs": [
    {
     "data": {
      "text/plain": [
       "NFLAG_INSURED_ON_APPROVAL      38.320766\n",
       "DAYS_LAST_DUE                  38.320766\n",
       "DAYS_FIRST_DUE                 38.320766\n",
       "DAYS_LAST_DUE_1ST_VERSION      38.320766\n",
       "DAYS_FIRST_DRAWING             38.320766\n",
       "DAYS_TERMINATION               38.320766\n",
       "AMT_GOODS_PRICE                21.488430\n",
       "AMT_ANNUITY                    21.184424\n",
       "CNT_PAYMENT                    21.184424\n",
       "PRODUCT_COMBINATION             0.016000\n",
       "NAME_GOODS_CATEGORY             0.000000\n",
       "NAME_YIELD_GROUP                0.000000\n",
       "NAME_SELLER_INDUSTRY            0.000000\n",
       "SELLERPLACE_AREA                0.000000\n",
       "CHANNEL_TYPE                    0.000000\n",
       "NAME_PRODUCT_TYPE               0.000000\n",
       "NAME_PORTFOLIO                  0.000000\n",
       "SK_ID_PREV                      0.000000\n",
       "SK_ID_CURR                      0.000000\n",
       "CODE_REJECT_REASON              0.000000\n",
       "NAME_PAYMENT_TYPE               0.000000\n",
       "DAYS_DECISION                   0.000000\n",
       "NAME_CONTRACT_STATUS            0.000000\n",
       "NAME_CASH_LOAN_PURPOSE          0.000000\n",
       "NFLAG_LAST_APPL_IN_DAY          0.000000\n",
       "FLAG_LAST_APPL_PER_CONTRACT     0.000000\n",
       "HOUR_APPR_PROCESS_START         0.000000\n",
       "WEEKDAY_APPR_PROCESS_START      0.000000\n",
       "AMT_CREDIT                      0.000000\n",
       "AMT_APPLICATION                 0.000000\n",
       "NAME_CONTRACT_TYPE              0.000000\n",
       "NAME_CLIENT_TYPE                0.000000\n",
       "dtype: float64"
      ]
     },
     "execution_count": 59,
     "metadata": {},
     "output_type": "execute_result"
    }
   ],
   "source": [
    "df1.isnull().mean().sort_values(ascending=False)*100"
   ]
  },
  {
   "cell_type": "code",
   "execution_count": 60,
   "metadata": {},
   "outputs": [
    {
     "data": {
      "text/plain": [
       "Index(['SK_ID_PREV', 'SK_ID_CURR', 'NAME_CONTRACT_TYPE', 'AMT_ANNUITY',\n",
       "       'AMT_APPLICATION', 'AMT_CREDIT', 'AMT_GOODS_PRICE',\n",
       "       'WEEKDAY_APPR_PROCESS_START', 'HOUR_APPR_PROCESS_START',\n",
       "       'FLAG_LAST_APPL_PER_CONTRACT', 'NFLAG_LAST_APPL_IN_DAY',\n",
       "       'NAME_CASH_LOAN_PURPOSE', 'NAME_CONTRACT_STATUS', 'DAYS_DECISION',\n",
       "       'NAME_PAYMENT_TYPE', 'CODE_REJECT_REASON', 'NAME_CLIENT_TYPE',\n",
       "       'NAME_GOODS_CATEGORY', 'NAME_PORTFOLIO', 'NAME_PRODUCT_TYPE',\n",
       "       'CHANNEL_TYPE', 'SELLERPLACE_AREA', 'NAME_SELLER_INDUSTRY',\n",
       "       'CNT_PAYMENT', 'NAME_YIELD_GROUP', 'PRODUCT_COMBINATION',\n",
       "       'DAYS_FIRST_DRAWING', 'DAYS_FIRST_DUE', 'DAYS_LAST_DUE_1ST_VERSION',\n",
       "       'DAYS_LAST_DUE', 'DAYS_TERMINATION', 'NFLAG_INSURED_ON_APPROVAL'],\n",
       "      dtype='object')"
      ]
     },
     "execution_count": 60,
     "metadata": {},
     "output_type": "execute_result"
    }
   ],
   "source": [
    "df1.columns"
   ]
  },
  {
   "cell_type": "code",
   "execution_count": 61,
   "metadata": {},
   "outputs": [],
   "source": [
    "#Dropping columns which are of no importance \n",
    "drop_col= [\"WEEKDAY_APPR_PROCESS_START\",\"HOUR_APPR_PROCESS_START\",\"FLAG_LAST_APPL_PER_CONTRACT\",\n",
    "          \"NFLAG_LAST_APPL_IN_DAY\",\"DAYS_DECISION\",\"AMT_APPLICATION\",\"NAME_CASH_LOAN_PURPOSE\",\"SK_ID_PREV\",\"NAME_GOODS_CATEGORY\"\n",
    "          ,\"NAME_PORTFOLIO\",\"NAME_PRODUCT_TYPE\",\"CHANNEL_TYPE\",\"SELLERPLACE_AREA\",\"NAME_SELLER_INDUSTRY\",\"NAME_YIELD_GROUP\"\n",
    "          ,\"CODE_REJECT_REASON\", \"PRODUCT_COMBINATION\"]\n",
    "df1 = df1.drop(drop_col,axis=1)"
   ]
  },
  {
   "cell_type": "code",
   "execution_count": 62,
   "metadata": {},
   "outputs": [
    {
     "data": {
      "text/html": [
       "<div>\n",
       "<style scoped>\n",
       "    .dataframe tbody tr th:only-of-type {\n",
       "        vertical-align: middle;\n",
       "    }\n",
       "\n",
       "    .dataframe tbody tr th {\n",
       "        vertical-align: top;\n",
       "    }\n",
       "\n",
       "    .dataframe thead th {\n",
       "        text-align: right;\n",
       "    }\n",
       "</style>\n",
       "<table border=\"1\" class=\"dataframe\">\n",
       "  <thead>\n",
       "    <tr style=\"text-align: right;\">\n",
       "      <th></th>\n",
       "      <th>SK_ID_CURR</th>\n",
       "      <th>NAME_CONTRACT_TYPE</th>\n",
       "      <th>AMT_ANNUITY</th>\n",
       "      <th>AMT_CREDIT</th>\n",
       "      <th>AMT_GOODS_PRICE</th>\n",
       "      <th>NAME_CONTRACT_STATUS</th>\n",
       "      <th>NAME_PAYMENT_TYPE</th>\n",
       "      <th>NAME_CLIENT_TYPE</th>\n",
       "      <th>CNT_PAYMENT</th>\n",
       "      <th>DAYS_FIRST_DRAWING</th>\n",
       "      <th>DAYS_FIRST_DUE</th>\n",
       "      <th>DAYS_LAST_DUE_1ST_VERSION</th>\n",
       "      <th>DAYS_LAST_DUE</th>\n",
       "      <th>DAYS_TERMINATION</th>\n",
       "      <th>NFLAG_INSURED_ON_APPROVAL</th>\n",
       "    </tr>\n",
       "  </thead>\n",
       "  <tbody>\n",
       "    <tr>\n",
       "      <th>0</th>\n",
       "      <td>271877</td>\n",
       "      <td>Consumer loans</td>\n",
       "      <td>1730.430</td>\n",
       "      <td>17145.0</td>\n",
       "      <td>17145.0</td>\n",
       "      <td>Approved</td>\n",
       "      <td>Cash through the bank</td>\n",
       "      <td>Repeater</td>\n",
       "      <td>12.0</td>\n",
       "      <td>365243.0</td>\n",
       "      <td>-42.0</td>\n",
       "      <td>300.0</td>\n",
       "      <td>-42.0</td>\n",
       "      <td>-37.0</td>\n",
       "      <td>0.0</td>\n",
       "    </tr>\n",
       "    <tr>\n",
       "      <th>1</th>\n",
       "      <td>108129</td>\n",
       "      <td>Cash loans</td>\n",
       "      <td>25188.615</td>\n",
       "      <td>679671.0</td>\n",
       "      <td>607500.0</td>\n",
       "      <td>Approved</td>\n",
       "      <td>XNA</td>\n",
       "      <td>Repeater</td>\n",
       "      <td>36.0</td>\n",
       "      <td>365243.0</td>\n",
       "      <td>-134.0</td>\n",
       "      <td>916.0</td>\n",
       "      <td>365243.0</td>\n",
       "      <td>365243.0</td>\n",
       "      <td>1.0</td>\n",
       "    </tr>\n",
       "    <tr>\n",
       "      <th>2</th>\n",
       "      <td>122040</td>\n",
       "      <td>Cash loans</td>\n",
       "      <td>15060.735</td>\n",
       "      <td>136444.5</td>\n",
       "      <td>112500.0</td>\n",
       "      <td>Approved</td>\n",
       "      <td>Cash through the bank</td>\n",
       "      <td>Repeater</td>\n",
       "      <td>12.0</td>\n",
       "      <td>365243.0</td>\n",
       "      <td>-271.0</td>\n",
       "      <td>59.0</td>\n",
       "      <td>365243.0</td>\n",
       "      <td>365243.0</td>\n",
       "      <td>1.0</td>\n",
       "    </tr>\n",
       "    <tr>\n",
       "      <th>3</th>\n",
       "      <td>176158</td>\n",
       "      <td>Cash loans</td>\n",
       "      <td>47041.335</td>\n",
       "      <td>470790.0</td>\n",
       "      <td>450000.0</td>\n",
       "      <td>Approved</td>\n",
       "      <td>Cash through the bank</td>\n",
       "      <td>Repeater</td>\n",
       "      <td>12.0</td>\n",
       "      <td>365243.0</td>\n",
       "      <td>-482.0</td>\n",
       "      <td>-152.0</td>\n",
       "      <td>-182.0</td>\n",
       "      <td>-177.0</td>\n",
       "      <td>1.0</td>\n",
       "    </tr>\n",
       "    <tr>\n",
       "      <th>4</th>\n",
       "      <td>202054</td>\n",
       "      <td>Cash loans</td>\n",
       "      <td>31924.395</td>\n",
       "      <td>404055.0</td>\n",
       "      <td>337500.0</td>\n",
       "      <td>Refused</td>\n",
       "      <td>Cash through the bank</td>\n",
       "      <td>Repeater</td>\n",
       "      <td>24.0</td>\n",
       "      <td>NaN</td>\n",
       "      <td>NaN</td>\n",
       "      <td>NaN</td>\n",
       "      <td>NaN</td>\n",
       "      <td>NaN</td>\n",
       "      <td>NaN</td>\n",
       "    </tr>\n",
       "  </tbody>\n",
       "</table>\n",
       "</div>"
      ],
      "text/plain": [
       "   SK_ID_CURR NAME_CONTRACT_TYPE  AMT_ANNUITY  AMT_CREDIT  AMT_GOODS_PRICE  \\\n",
       "0      271877     Consumer loans     1730.430     17145.0          17145.0   \n",
       "1      108129         Cash loans    25188.615    679671.0         607500.0   \n",
       "2      122040         Cash loans    15060.735    136444.5         112500.0   \n",
       "3      176158         Cash loans    47041.335    470790.0         450000.0   \n",
       "4      202054         Cash loans    31924.395    404055.0         337500.0   \n",
       "\n",
       "  NAME_CONTRACT_STATUS      NAME_PAYMENT_TYPE NAME_CLIENT_TYPE  CNT_PAYMENT  \\\n",
       "0             Approved  Cash through the bank         Repeater         12.0   \n",
       "1             Approved                    XNA         Repeater         36.0   \n",
       "2             Approved  Cash through the bank         Repeater         12.0   \n",
       "3             Approved  Cash through the bank         Repeater         12.0   \n",
       "4              Refused  Cash through the bank         Repeater         24.0   \n",
       "\n",
       "   DAYS_FIRST_DRAWING  DAYS_FIRST_DUE  DAYS_LAST_DUE_1ST_VERSION  \\\n",
       "0            365243.0           -42.0                      300.0   \n",
       "1            365243.0          -134.0                      916.0   \n",
       "2            365243.0          -271.0                       59.0   \n",
       "3            365243.0          -482.0                     -152.0   \n",
       "4                 NaN             NaN                        NaN   \n",
       "\n",
       "   DAYS_LAST_DUE  DAYS_TERMINATION  NFLAG_INSURED_ON_APPROVAL  \n",
       "0          -42.0             -37.0                        0.0  \n",
       "1       365243.0          365243.0                        1.0  \n",
       "2       365243.0          365243.0                        1.0  \n",
       "3         -182.0            -177.0                        1.0  \n",
       "4            NaN               NaN                        NaN  "
      ]
     },
     "execution_count": 62,
     "metadata": {},
     "output_type": "execute_result"
    }
   ],
   "source": [
    "df1.head()"
   ]
  },
  {
   "cell_type": "markdown",
   "metadata": {},
   "source": [
    "Filling missing Values with Mean"
   ]
  },
  {
   "cell_type": "code",
   "execution_count": 23,
   "metadata": {},
   "outputs": [],
   "source": [
    "missing_cols = [\"AMT_GOODS_PRICE\",\"AMT_ANNUITY\",\"CNT_PAYMENT\"]"
   ]
  },
  {
   "cell_type": "code",
   "execution_count": 63,
   "metadata": {},
   "outputs": [],
   "source": [
    "for i in missing_cols:\n",
    "    df1[i].fillna(df1[i].mean(), inplace=True)"
   ]
  },
  {
   "cell_type": "code",
   "execution_count": 64,
   "metadata": {},
   "outputs": [
    {
     "name": "stdout",
     "output_type": "stream",
     "text": [
      "<class 'pandas.core.frame.DataFrame'>\n",
      "RangeIndex: 49999 entries, 0 to 49998\n",
      "Data columns (total 15 columns):\n",
      " #   Column                     Non-Null Count  Dtype  \n",
      "---  ------                     --------------  -----  \n",
      " 0   SK_ID_CURR                 49999 non-null  int64  \n",
      " 1   NAME_CONTRACT_TYPE         49999 non-null  object \n",
      " 2   AMT_ANNUITY                49999 non-null  float64\n",
      " 3   AMT_CREDIT                 49999 non-null  float64\n",
      " 4   AMT_GOODS_PRICE            49999 non-null  float64\n",
      " 5   NAME_CONTRACT_STATUS       49999 non-null  object \n",
      " 6   NAME_PAYMENT_TYPE          49999 non-null  object \n",
      " 7   NAME_CLIENT_TYPE           49999 non-null  object \n",
      " 8   CNT_PAYMENT                49999 non-null  float64\n",
      " 9   DAYS_FIRST_DRAWING         30839 non-null  float64\n",
      " 10  DAYS_FIRST_DUE             30839 non-null  float64\n",
      " 11  DAYS_LAST_DUE_1ST_VERSION  30839 non-null  float64\n",
      " 12  DAYS_LAST_DUE              30839 non-null  float64\n",
      " 13  DAYS_TERMINATION           30839 non-null  float64\n",
      " 14  NFLAG_INSURED_ON_APPROVAL  30839 non-null  float64\n",
      "dtypes: float64(10), int64(1), object(4)\n",
      "memory usage: 5.7+ MB\n"
     ]
    }
   ],
   "source": [
    "df1.info()"
   ]
  },
  {
   "cell_type": "code",
   "execution_count": 65,
   "metadata": {},
   "outputs": [
    {
     "data": {
      "text/plain": [
       "NAME_PAYMENT_TYPE\n",
       "Cash through the bank                        64.179284\n",
       "XNA                                          35.178704\n",
       "Non-cash from your account                    0.572011\n",
       "Cashless from the account of the employer     0.070001\n",
       "Name: proportion, dtype: float64"
      ]
     },
     "execution_count": 65,
     "metadata": {},
     "output_type": "execute_result"
    }
   ],
   "source": [
    "df1['NAME_PAYMENT_TYPE'].value_counts(normalize=True)*100"
   ]
  },
  {
   "cell_type": "code",
   "execution_count": 66,
   "metadata": {},
   "outputs": [
    {
     "data": {
      "text/plain": [
       "NAME_PAYMENT_TYPE\n",
       "Cash through the bank                        99.357987\n",
       "Non-cash from your account                    0.572011\n",
       "Cashless from the account of the employer     0.070001\n",
       "Name: proportion, dtype: float64"
      ]
     },
     "execution_count": 66,
     "metadata": {},
     "output_type": "execute_result"
    }
   ],
   "source": [
    "df1['NAME_PAYMENT_TYPE'].replace(\"XNA\",\"Cash through the bank\", inplace=True)\n",
    "df1['NAME_PAYMENT_TYPE'].value_counts(normalize=True)*100"
   ]
  },
  {
   "cell_type": "code",
   "execution_count": 67,
   "metadata": {},
   "outputs": [
    {
     "data": {
      "text/plain": [
       "NAME_CLIENT_TYPE\n",
       "Repeater     72.335447\n",
       "New          19.096382\n",
       "Refreshed     8.454169\n",
       "XNA           0.114002\n",
       "Name: proportion, dtype: float64"
      ]
     },
     "execution_count": 67,
     "metadata": {},
     "output_type": "execute_result"
    }
   ],
   "source": [
    "df1.NAME_CLIENT_TYPE.value_counts(normalize=True)*100"
   ]
  },
  {
   "cell_type": "code",
   "execution_count": 68,
   "metadata": {},
   "outputs": [
    {
     "data": {
      "text/plain": [
       "NAME_CLIENT_TYPE\n",
       "Repeater     72.449449\n",
       "New          19.096382\n",
       "Refreshed     8.454169\n",
       "Name: proportion, dtype: float64"
      ]
     },
     "execution_count": 68,
     "metadata": {},
     "output_type": "execute_result"
    }
   ],
   "source": [
    "df1['NAME_CLIENT_TYPE'].replace(\"XNA\",\"Repeater\", inplace=True)\n",
    "df1.NAME_CLIENT_TYPE.value_counts(normalize=True)*100"
   ]
  },
  {
   "cell_type": "code",
   "execution_count": 69,
   "metadata": {},
   "outputs": [
    {
     "data": {
      "text/plain": [
       "NAME_CONTRACT_TYPE\n",
       "Consumer loans     47.020940\n",
       "Cash loans         41.712834\n",
       "Revolving loans    11.250225\n",
       "XNA                 0.016000\n",
       "Name: proportion, dtype: float64"
      ]
     },
     "execution_count": 69,
     "metadata": {},
     "output_type": "execute_result"
    }
   ],
   "source": [
    "df1['NAME_CONTRACT_TYPE'].value_counts(normalize=True)*100"
   ]
  },
  {
   "cell_type": "code",
   "execution_count": 70,
   "metadata": {},
   "outputs": [
    {
     "data": {
      "text/plain": [
       "NAME_CONTRACT_TYPE\n",
       "Consumer loans     47.020940\n",
       "Cash loans         41.728835\n",
       "Revolving loans    11.250225\n",
       "Name: proportion, dtype: float64"
      ]
     },
     "execution_count": 70,
     "metadata": {},
     "output_type": "execute_result"
    }
   ],
   "source": [
    "df1['NAME_CONTRACT_TYPE'].replace(\"XNA\",\"Cash loans\", inplace=True)\n",
    "df1['NAME_CONTRACT_TYPE'].value_counts(normalize=True)*100"
   ]
  },
  {
   "cell_type": "markdown",
   "metadata": {},
   "source": [
    "UNIVARIATE ANALYSIS"
   ]
  },
  {
   "cell_type": "code",
   "execution_count": 71,
   "metadata": {},
   "outputs": [
    {
     "data": {
      "text/plain": [
       "Text(0.5, 0, 'Number of previous loans')"
      ]
     },
     "execution_count": 71,
     "metadata": {},
     "output_type": "execute_result"
    },
    {
     "data": {
      "image/png": "[encoded data removed]",
      "text/plain": [
       "<Figure size 640x480 with 1 Axes>"
      ]
     },
     "metadata": {},
     "output_type": "display_data"
    }
   ],
   "source": [
    "payment_type = df1['NAME_PAYMENT_TYPE'].value_counts(normalize=True)*100\n",
    "payment_type.plot.barh()\n",
    "#lt.xticks(rotation=45)\n",
    "plt.ylabel(\"Payment type\")\n",
    "plt.xlabel(\"Number of previous loans\")"
   ]
  },
  {
   "cell_type": "code",
   "execution_count": 72,
   "metadata": {},
   "outputs": [
    {
     "data": {
      "text/plain": [
       "Text(0, 0.5, 'Number of previous loans')"
      ]
     },
     "execution_count": 72,
     "metadata": {},
     "output_type": "execute_result"
    },
    {
     "data": {
      "image/png": "[encoded data removed]",
      "text/plain": [
       "<Figure size 640x480 with 1 Axes>"
      ]
     },
     "metadata": {},
     "output_type": "display_data"
    }
   ],
   "source": [
    "loan_status = df1['NAME_CONTRACT_STATUS'].value_counts(normalize=True)*100\n",
    "loan_status.plot.bar()\n",
    "plt.xticks(rotation=360)\n",
    "plt.xlabel(\"Loan type\")\n",
    "plt.ylabel(\"Number of previous loans\")\n"
   ]
  },
  {
   "cell_type": "code",
   "execution_count": 73,
   "metadata": {},
   "outputs": [
    {
     "data": {
      "text/plain": [
       "Text(0, 0.5, 'Number of previous loans')"
      ]
     },
     "execution_count": 73,
     "metadata": {},
     "output_type": "execute_result"
    },
    {
     "data": {
      "image/png": "[encoded data removed]",
      "text/plain": [
       "<Figure size 640x480 with 1 Axes>"
      ]
     },
     "metadata": {},
     "output_type": "display_data"
    }
   ],
   "source": [
    "client_type = df1['NAME_CLIENT_TYPE'].value_counts(normalize=True)*100\n",
    "client_type.plot.bar()\n",
    "plt.xticks(rotation=360)\n",
    "plt.xlabel(\"Client Type\")\n",
    "plt.ylabel(\"Number of previous loans\")"
   ]
  },
  {
   "cell_type": "code",
   "execution_count": 75,
   "metadata": {},
   "outputs": [
    {
     "data": {
      "image/png": "[encoded data removed]",
      "text/plain": [
       "<Figure size 500x500 with 2 Axes>"
      ]
     },
     "metadata": {},
     "output_type": "display_data"
    }
   ],
   "source": []
  },
  {
   "cell_type": "markdown",
   "metadata": {},
   "source": [
    "## MERGING DATA"
   ]
  },
  {
   "cell_type": "code",
   "execution_count": 76,
   "metadata": {},
   "outputs": [],
   "source": [
    "df = pd.read_csv(pwd + '/Data - application.csv')"
   ]
  },
  {
   "cell_type": "code",
   "execution_count": 77,
   "metadata": {},
   "outputs": [],
   "source": [
    "merge1= pd.merge(left= df[[\"SK_ID_CURR\",\"TARGET\"]], right= df1,how=\"inner\", left_on=[\"SK_ID_CURR\"], right_on = [\"SK_ID_CURR\"] )"
   ]
  },
  {
   "cell_type": "code",
   "execution_count": 78,
   "metadata": {},
   "outputs": [
    {
     "data": {
      "text/html": [
       "<div>\n",
       "<style scoped>\n",
       "    .dataframe tbody tr th:only-of-type {\n",
       "        vertical-align: middle;\n",
       "    }\n",
       "\n",
       "    .dataframe tbody tr th {\n",
       "        vertical-align: top;\n",
       "    }\n",
       "\n",
       "    .dataframe thead th {\n",
       "        text-align: right;\n",
       "    }\n",
       "</style>\n",
       "<table border=\"1\" class=\"dataframe\">\n",
       "  <thead>\n",
       "    <tr style=\"text-align: right;\">\n",
       "      <th></th>\n",
       "      <th>SK_ID_CURR</th>\n",
       "      <th>TARGET</th>\n",
       "      <th>NAME_CONTRACT_TYPE</th>\n",
       "      <th>AMT_ANNUITY</th>\n",
       "      <th>AMT_CREDIT</th>\n",
       "      <th>AMT_GOODS_PRICE</th>\n",
       "      <th>NAME_CONTRACT_STATUS</th>\n",
       "      <th>NAME_PAYMENT_TYPE</th>\n",
       "      <th>NAME_CLIENT_TYPE</th>\n",
       "      <th>CNT_PAYMENT</th>\n",
       "      <th>DAYS_FIRST_DRAWING</th>\n",
       "      <th>DAYS_FIRST_DUE</th>\n",
       "      <th>DAYS_LAST_DUE_1ST_VERSION</th>\n",
       "      <th>DAYS_LAST_DUE</th>\n",
       "      <th>DAYS_TERMINATION</th>\n",
       "      <th>NFLAG_INSURED_ON_APPROVAL</th>\n",
       "    </tr>\n",
       "  </thead>\n",
       "  <tbody>\n",
       "    <tr>\n",
       "      <th>0</th>\n",
       "      <td>100007</td>\n",
       "      <td>0</td>\n",
       "      <td>Cash loans</td>\n",
       "      <td>16509.600</td>\n",
       "      <td>180000.0</td>\n",
       "      <td>180000.0</td>\n",
       "      <td>Approved</td>\n",
       "      <td>Cash through the bank</td>\n",
       "      <td>Repeater</td>\n",
       "      <td>18.0</td>\n",
       "      <td>365243.0</td>\n",
       "      <td>-834.0</td>\n",
       "      <td>-324.0</td>\n",
       "      <td>-354.0</td>\n",
       "      <td>-347.0</td>\n",
       "      <td>0.0</td>\n",
       "    </tr>\n",
       "    <tr>\n",
       "      <th>1</th>\n",
       "      <td>100009</td>\n",
       "      <td>0</td>\n",
       "      <td>Consumer loans</td>\n",
       "      <td>8996.760</td>\n",
       "      <td>98239.5</td>\n",
       "      <td>98239.5</td>\n",
       "      <td>Approved</td>\n",
       "      <td>Cash through the bank</td>\n",
       "      <td>Repeater</td>\n",
       "      <td>12.0</td>\n",
       "      <td>365243.0</td>\n",
       "      <td>-418.0</td>\n",
       "      <td>-88.0</td>\n",
       "      <td>-88.0</td>\n",
       "      <td>-84.0</td>\n",
       "      <td>0.0</td>\n",
       "    </tr>\n",
       "    <tr>\n",
       "      <th>2</th>\n",
       "      <td>100012</td>\n",
       "      <td>0</td>\n",
       "      <td>Consumer loans</td>\n",
       "      <td>3012.075</td>\n",
       "      <td>23697.0</td>\n",
       "      <td>18720.0</td>\n",
       "      <td>Approved</td>\n",
       "      <td>Cash through the bank</td>\n",
       "      <td>New</td>\n",
       "      <td>12.0</td>\n",
       "      <td>365243.0</td>\n",
       "      <td>-1641.0</td>\n",
       "      <td>-1311.0</td>\n",
       "      <td>-1401.0</td>\n",
       "      <td>-1397.0</td>\n",
       "      <td>0.0</td>\n",
       "    </tr>\n",
       "    <tr>\n",
       "      <th>3</th>\n",
       "      <td>100026</td>\n",
       "      <td>0</td>\n",
       "      <td>Consumer loans</td>\n",
       "      <td>23608.485</td>\n",
       "      <td>132345.0</td>\n",
       "      <td>132345.0</td>\n",
       "      <td>Approved</td>\n",
       "      <td>Cash through the bank</td>\n",
       "      <td>New</td>\n",
       "      <td>6.0</td>\n",
       "      <td>365243.0</td>\n",
       "      <td>-1396.0</td>\n",
       "      <td>-1246.0</td>\n",
       "      <td>-1246.0</td>\n",
       "      <td>-1243.0</td>\n",
       "      <td>0.0</td>\n",
       "    </tr>\n",
       "    <tr>\n",
       "      <th>4</th>\n",
       "      <td>100027</td>\n",
       "      <td>0</td>\n",
       "      <td>Cash loans</td>\n",
       "      <td>22556.475</td>\n",
       "      <td>239850.0</td>\n",
       "      <td>225000.0</td>\n",
       "      <td>Refused</td>\n",
       "      <td>Cash through the bank</td>\n",
       "      <td>Repeater</td>\n",
       "      <td>12.0</td>\n",
       "      <td>NaN</td>\n",
       "      <td>NaN</td>\n",
       "      <td>NaN</td>\n",
       "      <td>NaN</td>\n",
       "      <td>NaN</td>\n",
       "      <td>NaN</td>\n",
       "    </tr>\n",
       "  </tbody>\n",
       "</table>\n",
       "</div>"
      ],
      "text/plain": [
       "   SK_ID_CURR  TARGET NAME_CONTRACT_TYPE  AMT_ANNUITY  AMT_CREDIT  \\\n",
       "0      100007       0         Cash loans    16509.600    180000.0   \n",
       "1      100009       0     Consumer loans     8996.760     98239.5   \n",
       "2      100012       0     Consumer loans     3012.075     23697.0   \n",
       "3      100026       0     Consumer loans    23608.485    132345.0   \n",
       "4      100027       0         Cash loans    22556.475    239850.0   \n",
       "\n",
       "   AMT_GOODS_PRICE NAME_CONTRACT_STATUS      NAME_PAYMENT_TYPE  \\\n",
       "0         180000.0             Approved  Cash through the bank   \n",
       "1          98239.5             Approved  Cash through the bank   \n",
       "2          18720.0             Approved  Cash through the bank   \n",
       "3         132345.0             Approved  Cash through the bank   \n",
       "4         225000.0              Refused  Cash through the bank   \n",
       "\n",
       "  NAME_CLIENT_TYPE  CNT_PAYMENT  DAYS_FIRST_DRAWING  DAYS_FIRST_DUE  \\\n",
       "0         Repeater         18.0            365243.0          -834.0   \n",
       "1         Repeater         12.0            365243.0          -418.0   \n",
       "2              New         12.0            365243.0         -1641.0   \n",
       "3              New          6.0            365243.0         -1396.0   \n",
       "4         Repeater         12.0                 NaN             NaN   \n",
       "\n",
       "   DAYS_LAST_DUE_1ST_VERSION  DAYS_LAST_DUE  DAYS_TERMINATION  \\\n",
       "0                     -324.0         -354.0            -347.0   \n",
       "1                      -88.0          -88.0             -84.0   \n",
       "2                    -1311.0        -1401.0           -1397.0   \n",
       "3                    -1246.0        -1246.0           -1243.0   \n",
       "4                        NaN            NaN               NaN   \n",
       "\n",
       "   NFLAG_INSURED_ON_APPROVAL  \n",
       "0                        0.0  \n",
       "1                        0.0  \n",
       "2                        0.0  \n",
       "3                        0.0  \n",
       "4                        NaN  "
      ]
     },
     "execution_count": 78,
     "metadata": {},
     "output_type": "execute_result"
    }
   ],
   "source": [
    "merge1.head()"
   ]
  },
  {
   "cell_type": "code",
   "execution_count": 79,
   "metadata": {},
   "outputs": [
    {
     "name": "stdout",
     "output_type": "stream",
     "text": [
      "<class 'pandas.core.frame.DataFrame'>\n",
      "RangeIndex: 6841 entries, 0 to 6840\n",
      "Data columns (total 16 columns):\n",
      " #   Column                     Non-Null Count  Dtype  \n",
      "---  ------                     --------------  -----  \n",
      " 0   SK_ID_CURR                 6841 non-null   int64  \n",
      " 1   TARGET                     6841 non-null   int64  \n",
      " 2   NAME_CONTRACT_TYPE         6841 non-null   object \n",
      " 3   AMT_ANNUITY                6841 non-null   float64\n",
      " 4   AMT_CREDIT                 6841 non-null   float64\n",
      " 5   AMT_GOODS_PRICE            6841 non-null   float64\n",
      " 6   NAME_CONTRACT_STATUS       6841 non-null   object \n",
      " 7   NAME_PAYMENT_TYPE          6841 non-null   object \n",
      " 8   NAME_CLIENT_TYPE           6841 non-null   object \n",
      " 9   CNT_PAYMENT                6841 non-null   float64\n",
      " 10  DAYS_FIRST_DRAWING         4246 non-null   float64\n",
      " 11  DAYS_FIRST_DUE             4246 non-null   float64\n",
      " 12  DAYS_LAST_DUE_1ST_VERSION  4246 non-null   float64\n",
      " 13  DAYS_LAST_DUE              4246 non-null   float64\n",
      " 14  DAYS_TERMINATION           4246 non-null   float64\n",
      " 15  NFLAG_INSURED_ON_APPROVAL  4246 non-null   float64\n",
      "dtypes: float64(10), int64(2), object(4)\n",
      "memory usage: 855.3+ KB\n"
     ]
    }
   ],
   "source": [
    "merge1.info()"
   ]
  },
  {
   "cell_type": "code",
   "execution_count": 80,
   "metadata": {},
   "outputs": [
    {
     "data": {
      "text/html": [
       "<div>\n",
       "<style scoped>\n",
       "    .dataframe tbody tr th:only-of-type {\n",
       "        vertical-align: middle;\n",
       "    }\n",
       "\n",
       "    .dataframe tbody tr th {\n",
       "        vertical-align: top;\n",
       "    }\n",
       "\n",
       "    .dataframe thead th {\n",
       "        text-align: right;\n",
       "    }\n",
       "</style>\n",
       "<table border=\"1\" class=\"dataframe\">\n",
       "  <thead>\n",
       "    <tr style=\"text-align: right;\">\n",
       "      <th></th>\n",
       "      <th>SK_ID_CURR</th>\n",
       "      <th>TARGET</th>\n",
       "      <th>AMT_ANNUITY</th>\n",
       "      <th>AMT_CREDIT</th>\n",
       "      <th>AMT_GOODS_PRICE</th>\n",
       "      <th>CNT_PAYMENT</th>\n",
       "      <th>DAYS_FIRST_DRAWING</th>\n",
       "      <th>DAYS_FIRST_DUE</th>\n",
       "      <th>DAYS_LAST_DUE_1ST_VERSION</th>\n",
       "      <th>DAYS_LAST_DUE</th>\n",
       "      <th>DAYS_TERMINATION</th>\n",
       "      <th>NFLAG_INSURED_ON_APPROVAL</th>\n",
       "    </tr>\n",
       "  </thead>\n",
       "  <tbody>\n",
       "    <tr>\n",
       "      <th>count</th>\n",
       "      <td>6841.000000</td>\n",
       "      <td>6841.000000</td>\n",
       "      <td>6841.000000</td>\n",
       "      <td>6.841000e+03</td>\n",
       "      <td>6.841000e+03</td>\n",
       "      <td>6841.000000</td>\n",
       "      <td>4246.000000</td>\n",
       "      <td>4246.000000</td>\n",
       "      <td>4246.000000</td>\n",
       "      <td>4246.000000</td>\n",
       "      <td>4246.000000</td>\n",
       "      <td>4246.000000</td>\n",
       "    </tr>\n",
       "    <tr>\n",
       "      <th>mean</th>\n",
       "      <td>129281.024265</td>\n",
       "      <td>0.080982</td>\n",
       "      <td>15394.209691</td>\n",
       "      <td>1.909169e+05</td>\n",
       "      <td>2.150625e+05</td>\n",
       "      <td>15.672111</td>\n",
       "      <td>343502.814178</td>\n",
       "      <td>14530.288507</td>\n",
       "      <td>33044.975035</td>\n",
       "      <td>81038.799576</td>\n",
       "      <td>86056.942534</td>\n",
       "      <td>0.319830</td>\n",
       "    </tr>\n",
       "    <tr>\n",
       "      <th>std</th>\n",
       "      <td>16871.202079</td>\n",
       "      <td>0.272828</td>\n",
       "      <td>12701.614880</td>\n",
       "      <td>3.062764e+05</td>\n",
       "      <td>2.658996e+05</td>\n",
       "      <td>12.579127</td>\n",
       "      <td>86560.501394</td>\n",
       "      <td>74017.705257</td>\n",
       "      <td>105813.123420</td>\n",
       "      <td>152703.258108</td>\n",
       "      <td>155891.686427</td>\n",
       "      <td>0.466466</td>\n",
       "    </tr>\n",
       "    <tr>\n",
       "      <th>min</th>\n",
       "      <td>100007.000000</td>\n",
       "      <td>0.000000</td>\n",
       "      <td>0.000000</td>\n",
       "      <td>0.000000e+00</td>\n",
       "      <td>0.000000e+00</td>\n",
       "      <td>0.000000</td>\n",
       "      <td>-2910.000000</td>\n",
       "      <td>-2889.000000</td>\n",
       "      <td>-2780.000000</td>\n",
       "      <td>-2780.000000</td>\n",
       "      <td>-2743.000000</td>\n",
       "      <td>0.000000</td>\n",
       "    </tr>\n",
       "    <tr>\n",
       "      <th>25%</th>\n",
       "      <td>114825.000000</td>\n",
       "      <td>0.000000</td>\n",
       "      <td>7011.675000</td>\n",
       "      <td>2.693250e+04</td>\n",
       "      <td>6.295500e+04</td>\n",
       "      <td>10.000000</td>\n",
       "      <td>365243.000000</td>\n",
       "      <td>-1597.750000</td>\n",
       "      <td>-1225.000000</td>\n",
       "      <td>-1294.750000</td>\n",
       "      <td>-1250.750000</td>\n",
       "      <td>0.000000</td>\n",
       "    </tr>\n",
       "    <tr>\n",
       "      <th>50%</th>\n",
       "      <td>129613.000000</td>\n",
       "      <td>0.000000</td>\n",
       "      <td>14172.210000</td>\n",
       "      <td>8.143650e+04</td>\n",
       "      <td>1.472895e+05</td>\n",
       "      <td>12.000000</td>\n",
       "      <td>365243.000000</td>\n",
       "      <td>-802.000000</td>\n",
       "      <td>-317.500000</td>\n",
       "      <td>-502.000000</td>\n",
       "      <td>-460.000000</td>\n",
       "      <td>0.000000</td>\n",
       "    </tr>\n",
       "    <tr>\n",
       "      <th>75%</th>\n",
       "      <td>144026.000000</td>\n",
       "      <td>0.000000</td>\n",
       "      <td>16227.540000</td>\n",
       "      <td>2.025000e+05</td>\n",
       "      <td>2.151414e+05</td>\n",
       "      <td>18.000000</td>\n",
       "      <td>365243.000000</td>\n",
       "      <td>-381.000000</td>\n",
       "      <td>158.750000</td>\n",
       "      <td>-54.000000</td>\n",
       "      <td>-26.000000</td>\n",
       "      <td>1.000000</td>\n",
       "    </tr>\n",
       "    <tr>\n",
       "      <th>max</th>\n",
       "      <td>157867.000000</td>\n",
       "      <td>1.000000</td>\n",
       "      <td>132861.510000</td>\n",
       "      <td>3.150000e+06</td>\n",
       "      <td>3.150000e+06</td>\n",
       "      <td>60.000000</td>\n",
       "      <td>365243.000000</td>\n",
       "      <td>365243.000000</td>\n",
       "      <td>365243.000000</td>\n",
       "      <td>365243.000000</td>\n",
       "      <td>365243.000000</td>\n",
       "      <td>1.000000</td>\n",
       "    </tr>\n",
       "  </tbody>\n",
       "</table>\n",
       "</div>"
      ],
      "text/plain": [
       "          SK_ID_CURR       TARGET    AMT_ANNUITY    AMT_CREDIT  \\\n",
       "count    6841.000000  6841.000000    6841.000000  6.841000e+03   \n",
       "mean   129281.024265     0.080982   15394.209691  1.909169e+05   \n",
       "std     16871.202079     0.272828   12701.614880  3.062764e+05   \n",
       "min    100007.000000     0.000000       0.000000  0.000000e+00   \n",
       "25%    114825.000000     0.000000    7011.675000  2.693250e+04   \n",
       "50%    129613.000000     0.000000   14172.210000  8.143650e+04   \n",
       "75%    144026.000000     0.000000   16227.540000  2.025000e+05   \n",
       "max    157867.000000     1.000000  132861.510000  3.150000e+06   \n",
       "\n",
       "       AMT_GOODS_PRICE  CNT_PAYMENT  DAYS_FIRST_DRAWING  DAYS_FIRST_DUE  \\\n",
       "count     6.841000e+03  6841.000000         4246.000000     4246.000000   \n",
       "mean      2.150625e+05    15.672111       343502.814178    14530.288507   \n",
       "std       2.658996e+05    12.579127        86560.501394    74017.705257   \n",
       "min       0.000000e+00     0.000000        -2910.000000    -2889.000000   \n",
       "25%       6.295500e+04    10.000000       365243.000000    -1597.750000   \n",
       "50%       1.472895e+05    12.000000       365243.000000     -802.000000   \n",
       "75%       2.151414e+05    18.000000       365243.000000     -381.000000   \n",
       "max       3.150000e+06    60.000000       365243.000000   365243.000000   \n",
       "\n",
       "       DAYS_LAST_DUE_1ST_VERSION  DAYS_LAST_DUE  DAYS_TERMINATION  \\\n",
       "count                4246.000000    4246.000000       4246.000000   \n",
       "mean                33044.975035   81038.799576      86056.942534   \n",
       "std                105813.123420  152703.258108     155891.686427   \n",
       "min                 -2780.000000   -2780.000000      -2743.000000   \n",
       "25%                 -1225.000000   -1294.750000      -1250.750000   \n",
       "50%                  -317.500000    -502.000000       -460.000000   \n",
       "75%                   158.750000     -54.000000        -26.000000   \n",
       "max                365243.000000  365243.000000     365243.000000   \n",
       "\n",
       "       NFLAG_INSURED_ON_APPROVAL  \n",
       "count                4246.000000  \n",
       "mean                    0.319830  \n",
       "std                     0.466466  \n",
       "min                     0.000000  \n",
       "25%                     0.000000  \n",
       "50%                     0.000000  \n",
       "75%                     1.000000  \n",
       "max                     1.000000  "
      ]
     },
     "execution_count": 80,
     "metadata": {},
     "output_type": "execute_result"
    }
   ],
   "source": [
    "merge1.describe()"
   ]
  },
  {
   "cell_type": "markdown",
   "metadata": {},
   "source": [
    "BIVARIATE ANALYSIS"
   ]
  },
  {
   "cell_type": "code",
   "execution_count": 82,
   "metadata": {},
   "outputs": [
    {
     "data": {
      "text/plain": [
       "Text(0.5, 0, 'Client type')"
      ]
     },
     "execution_count": 82,
     "metadata": {},
     "output_type": "execute_result"
    },
    {
     "data": {
      "image/png": "[encoded data removed]",
      "text/plain": [
       "<Figure size 640x480 with 1 Axes>"
      ]
     },
     "metadata": {},
     "output_type": "display_data"
    }
   ],
   "source": [
    "sns.countplot(data=merge1,x=\"NAME_CLIENT_TYPE\", hue=\"TARGET\")\n",
    "plt.xlabel(\"Client type\")"
   ]
  },
  {
   "cell_type": "code",
   "execution_count": 83,
   "metadata": {},
   "outputs": [
    {
     "data": {
      "text/plain": [
       "<Axes: xlabel='NAME_CONTRACT_STATUS', ylabel='count'>"
      ]
     },
     "execution_count": 83,
     "metadata": {},
     "output_type": "execute_result"
    },
    {
     "data": {
      "image/png": "[encoded data removed]",
      "text/plain": [
       "<Figure size 640x480 with 1 Axes>"
      ]
     },
     "metadata": {},
     "output_type": "display_data"
    }
   ],
   "source": [
    "sns.countplot(data=merge1,x=\"NAME_CONTRACT_STATUS\", hue=\"TARGET\")"
   ]
  },
  {
   "cell_type": "code",
   "execution_count": null,
   "metadata": {},
   "outputs": [],
   "source": []
  }
 ],
 "metadata": {
  "kernelspec": {
   "display_name": "base",
   "language": "python",
   "name": "python3"
  },
  "language_info": {
   "codemirror_mode": {
    "name": "ipython",
    "version": 3
   },
   "file_extension": ".py",
   "mimetype": "text/x-python",
   "name": "python",
   "nbconvert_exporter": "python",
   "pygments_lexer": "ipython3",
   "version": "3.11.5"
  }
 },
 "nbformat": 4,
 "nbformat_minor": 2
}
